{
 "cells": [
  {
   "cell_type": "markdown",
   "metadata": {},
   "source": [
    "Q1. Write a Python Program to implement your own myreduce() function which works exactly like\n",
    "Python's built-in function reduce()"
   ]
  },
  {
   "cell_type": "code",
   "execution_count": 6,
   "metadata": {},
   "outputs": [
    {
     "data": {
      "text/plain": [
       "120"
      ]
     },
     "execution_count": 6,
     "metadata": {},
     "output_type": "execute_result"
    }
   ],
   "source": [
    "def myreduce(func,itr):\n",
    "    x=itr[0]\n",
    "    for i in range(1,len(itr)):\n",
    "        x=func(x,itr[i])\n",
    "    return x\n",
    "\n",
    "myreduce(lambda x,y:x*y,[1,2,3,4,5])"
   ]
  },
  {
   "cell_type": "markdown",
   "metadata": {},
   "source": [
    "Q2. Write a Python program to implement your own myfilter() function which works exactly like\n",
    "Python's built-in function filter()"
   ]
  },
  {
   "cell_type": "code",
   "execution_count": 16,
   "metadata": {},
   "outputs": [
    {
     "data": {
      "text/plain": [
       "[2, 4]"
      ]
     },
     "execution_count": 16,
     "metadata": {},
     "output_type": "execute_result"
    }
   ],
   "source": [
    "def myfilter(func,itr):\n",
    "    for i in itr:\n",
    "        if func(i):\n",
    "            yield i\n",
    "\n",
    "list(myfilter(lambda x: True if x%2==0 else False,[1,2,3,4,5]))"
   ]
  },
  {
   "cell_type": "markdown",
   "metadata": {},
   "source": [
    "Q3. Implement List comprehensions to produce the following lists.\n",
    "Write List comprehensions to produce the following Lists\n",
    "\n",
    "['x', 'xx', 'xxx', 'xxxx', 'y', 'yy', 'yyy', 'yyyy', 'z', 'zz', 'zzz', 'zzzz']\n",
    "['x', 'y', 'z', 'xx', 'yy', 'zz', 'xx', 'yy', 'zz', 'xxxx', 'yyyy', 'zzzz']\n",
    "\n",
    "[[2], [3], [4], [3], [4], [5], [4], [5], [6]]\n",
    "[[2, 3, 4, 5], [3, 4, 5, 6], [4, 5, 6, 7], [5, 6, 7, 8]]\n",
    "[(1, 1), (2, 1), (3, 1), (1, 2), (2, 2), (3, 2), (1, 3), (2, 3), (3, 3)]"
   ]
  },
  {
   "cell_type": "code",
   "execution_count": 50,
   "metadata": {},
   "outputs": [
    {
     "name": "stdout",
     "output_type": "stream",
     "text": [
      "['x', 'xx', 'xxx', 'xxxx', 'y', 'yy', 'yyy', 'yyyy', 'z', 'zz', 'zzz', 'zzzz']\n",
      "['x', 'y', 'z', 'xx', 'yy', 'zz', 'xxx', 'yyy', 'zzz', 'xxxx', 'yyyy', 'zzzz']\n",
      "[[2], [3], [4], [3], [4], [5], [4], [5], [6]]\n",
      "[[2, 3, 4, 5], [3, 4, 5, 6], [4, 5, 6, 7], [5, 6, 7, 8]]\n",
      "[(1, 1), (2, 1), (3, 1), (1, 2), (2, 2), (3, 2), (1, 3), (2, 3), (3, 3)]\n"
     ]
    }
   ],
   "source": [
    "print([i*j for i in ['x','y','z'] for j in range(1,5)])\n",
    "print([i*j for j in range(1,5) for i in ['x','y','z']])\n",
    "print([[i+j] for j in range(3) for i in range(2,5)])\n",
    "print([[i+j for i in range(2,6)] for j in range(4)])\n",
    "print([(j,i) for i in range(1,4) for j in range(1,4)])"
   ]
  },
  {
   "cell_type": "markdown",
   "metadata": {},
   "source": [
    "Q4. Implement a function longestWord() that takes a list of words and returns the longest one."
   ]
  },
  {
   "cell_type": "code",
   "execution_count": 46,
   "metadata": {},
   "outputs": [
    {
     "name": "stdout",
     "output_type": "stream",
     "text": [
      "hsaghgjha\n"
     ]
    }
   ],
   "source": [
    "def longestWord(l):\n",
    "    max=len(l[0])\n",
    "    wrd=l[0]\n",
    "    for i in l:\n",
    "        if len(i)>max:\n",
    "            max=len(i)\n",
    "            wrd=i\n",
    "    return wrd\n",
    "        \n",
    "l=['abc','abcd','hsaghgjha','skhd','ddhjhj']\n",
    "print(longestWord(l))"
   ]
  },
  {
   "cell_type": "markdown",
   "metadata": {},
   "source": [
    "1.2 Write a function filter_long_words() that takes a list of words and an integer n and returns the list\n",
    "of words that are longer than n."
   ]
  },
  {
   "cell_type": "code",
   "execution_count": 48,
   "metadata": {},
   "outputs": [
    {
     "name": "stdout",
     "output_type": "stream",
     "text": [
      "Enter a of word ? To break write 'break'Sudha s\n",
      "Enter a of word ? To break write 'break'arjun singh\n",
      "Enter a of word ? To break write 'break'arjun\n",
      "Enter a of word ? To break write 'break'kirti\n",
      "Enter a of word ? To break write 'break'nakul\n",
      "Enter a of word ? To break write 'break'avinash\n",
      "Enter a of word ? To break write 'break'break\n",
      "Enter length to compare?6\n",
      "['Sudha s', 'arjun singh', 'avinash']\n"
     ]
    }
   ],
   "source": [
    "def filter_long_words(str,n):\n",
    "    l=[]\n",
    "    for i in str:\n",
    "        if len(i)>n:\n",
    "            l.append(i)\n",
    "    return l\n",
    "str=[]\n",
    "i=\"\"\n",
    "while i != 'break':\n",
    "    i=input(\"Enter a of word ? To break write 'break'\")\n",
    "    str.append(i)\n",
    "n=int(input(\"Enter length to compare?\"))\n",
    "l=filter_long_words(str,n)\n",
    "print(l)"
   ]
  },
  {
   "cell_type": "markdown",
   "metadata": {},
   "source": [
    "2.1 Write a Python program using function concept that maps list of words into a list of integers\n",
    "representing the lengths of the corresponding words.\n",
    "Hint: ​If a list [ ab,cde,erty] is passed on to the python function output should come as [2,3,4]\n",
    "Here 2,3 and 4 are the lengths of the words in the list."
   ]
  },
  {
   "cell_type": "code",
   "execution_count": 39,
   "metadata": {},
   "outputs": [
    {
     "name": "stdout",
     "output_type": "stream",
     "text": [
      "Enter a of word ? To break write 'break'arjun\n",
      "Enter a of word ? To break write 'break'k\n",
      "Enter a of word ? To break write 'break'yeti singh\n",
      "Enter a of word ? To break write 'break'sudha\n",
      "Enter a of word ? To break write 'break'numb bight\n",
      "Enter a of word ? To break write 'break'break\n",
      "[5, 1, 10, 5, 10, 5]\n"
     ]
    }
   ],
   "source": [
    "def word_to_num(str):\n",
    "    l=[]\n",
    "    for i in str:\n",
    "        l.append(len(i))\n",
    "    return l\n",
    "\n",
    "str=[]\n",
    "j=\"\"\n",
    "while j != 'break':\n",
    "    j=input(\"Enter a of word ? To break write 'break'\")\n",
    "    str.append(j)\n",
    "print(word_to_num(str))"
   ]
  },
  {
   "cell_type": "markdown",
   "metadata": {},
   "source": [
    "2.2 Write a Python function which takes a character (i.e. a string of length 1) and returns True if it is\n",
    "a vowel, False otherwise."
   ]
  },
  {
   "cell_type": "code",
   "execution_count": 42,
   "metadata": {},
   "outputs": [
    {
     "name": "stdout",
     "output_type": "stream",
     "text": [
      "enter an alphabet?u\n",
      "True\n"
     ]
    }
   ],
   "source": [
    "def isVowel(char):\n",
    "    vowel=['a','e','i','o','u']\n",
    "    if char in vowel:\n",
    "        return True\n",
    "    else:\n",
    "        return False\n",
    "\n",
    "n=2\n",
    "while n>1:\n",
    "    i=input(\"enter an alphabet?\")\n",
    "    n=len(i)\n",
    "    if n>1:\n",
    "        print(\"Its not an alphabet\")\n",
    "print(isVowel(i))"
   ]
  }
 ],
 "metadata": {
  "kernelspec": {
   "display_name": "Python 3",
   "language": "python",
   "name": "python3"
  },
  "language_info": {
   "codemirror_mode": {
    "name": "ipython",
    "version": 3
   },
   "file_extension": ".py",
   "mimetype": "text/x-python",
   "name": "python",
   "nbconvert_exporter": "python",
   "pygments_lexer": "ipython3",
   "version": "3.7.1"
  }
 },
 "nbformat": 4,
 "nbformat_minor": 2
}
